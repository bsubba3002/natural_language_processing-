{
 "cells": [
  {
   "cell_type": "code",
   "execution_count": 2,
   "id": "5e4b21a5",
   "metadata": {},
   "outputs": [
    {
     "name": "stdout",
     "output_type": "stream",
     "text": [
      "Word: active\n",
      "Synonyms: {'alive', 'active', 'combat-ready', 'active_agent', 'fighting', 'dynamic', 'participating', 'active_voice'}\n",
      "Antonyms: {'passive', 'inactive', 'dormant', 'passive_voice', 'extinct', 'quiet', 'stative'}\n"
     ]
    }
   ],
   "source": [
    "import nltk \n",
    "from nltk.corpus import wordnet \n",
    "\n",
    "def get_synonyms_antonyms(word):\n",
    "    synonyms = set() \n",
    "    antonyms = set()  \n",
    "    \n",
    "\n",
    "    for syn in wordnet.synsets(word):\n",
    "        for lemma in syn.lemmas():\n",
    "            synonyms.add(lemma.name()) \n",
    "            if lemma.antonyms():  \n",
    "                antonyms.add(lemma.antonyms()[0].name())  \n",
    "    \n",
    "    return synonyms, antonyms\n",
    "\n",
    "\n",
    "word = \"active\"\n",
    "synonyms, antonyms = get_synonyms_antonyms(word)\n",
    "\n",
    "\n",
    "print(f\"Word: {word}\")\n",
    "print(\"Synonyms:\", synonyms)\n",
    "print(\"Antonyms:\", antonyms)\n"
   ]
  },
  {
   "cell_type": "code",
   "execution_count": null,
   "id": "26675189",
   "metadata": {},
   "outputs": [],
   "source": []
  }
 ],
 "metadata": {
  "kernelspec": {
   "display_name": "Python 3 (ipykernel)",
   "language": "python",
   "name": "python3"
  },
  "language_info": {
   "codemirror_mode": {
    "name": "ipython",
    "version": 3
   },
   "file_extension": ".py",
   "mimetype": "text/x-python",
   "name": "python",
   "nbconvert_exporter": "python",
   "pygments_lexer": "ipython3",
   "version": "3.11.5"
  }
 },
 "nbformat": 4,
 "nbformat_minor": 5
}
