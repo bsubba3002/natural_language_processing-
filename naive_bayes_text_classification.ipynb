{
 "cells": [
  {
   "cell_type": "code",
   "execution_count": 1,
   "id": "79976689",
   "metadata": {},
   "outputs": [
    {
     "name": "stdout",
     "output_type": "stream",
     "text": [
      "Test Doc: fast, couple, shoot, fly\n",
      "Predicted Class: Action\n"
     ]
    }
   ],
   "source": [
    "import math\n",
    "from collections import defaultdict\n",
    "\n",
    "# Training dataset with (text, label)\n",
    "data = [\n",
    "    (\"fun, couple, love, love, comedy\", \"Comedy\"),\n",
    "    (\"fast, furious, shoot, action\", \"Action\"),\n",
    "    (\"couple, fly, fast, fun, fun, comedy\", \"Comedy\"),\n",
    "    (\"furious, shoot, shoot, fun, action\", \"Action\"),\n",
    "    (\"fly, fast, shoot, love, action\", \"Action\")\n",
    "]\n",
    "\n",
    "test_doc = \"fast, couple, shoot, fly\"\n",
    "\n",
    "# Tokenization function\n",
    "def tokenize(text):\n",
    "    return text.lower().split(\", \")\n",
    "\n",
    "# Naïve Bayes Training Function\n",
    "def train_naive_bayes(data):\n",
    "    word_counts = defaultdict(lambda: defaultdict(int))  # Word frequency per class\n",
    "    class_counts = defaultdict(int)  # Document count per class\n",
    "    vocab = set()  # Unique words in training data\n",
    "    \n",
    "    for text, label in data:\n",
    "        class_counts[label] += 1\n",
    "        for word in tokenize(text):\n",
    "            word_counts[label][word] += 1\n",
    "            vocab.add(word)\n",
    "    \n",
    "    return word_counts, class_counts, len(vocab)\n",
    "\n",
    "# Naïve Bayes Classification Function\n",
    "def classify(text, word_counts, class_counts, vocab_size):\n",
    "    priors = {c: math.log(class_counts[c] / sum(class_counts.values())) for c in class_counts}\n",
    "    posteriors = {c: priors[c] + sum(\n",
    "        math.log((word_counts[c][w] + 1) / (sum(word_counts[c].values()) + vocab_size))  # Laplace smoothing\n",
    "        for w in tokenize(text)) for c in class_counts}\n",
    "    \n",
    "    return max(posteriors, key=posteriors.get)\n",
    "\n",
    "# Train and test\n",
    "word_counts, class_counts, vocab_size = train_naive_bayes(data)\n",
    "predicted_class = classify(test_doc, word_counts, class_counts, vocab_size)\n",
    "\n",
    "print(f\"Test Doc: {test_doc}\")\n",
    "print(f\"Predicted Class: {predicted_class}\")\n"
   ]
  },
  {
   "cell_type": "code",
   "execution_count": null,
   "id": "d6fb5304",
   "metadata": {},
   "outputs": [],
   "source": []
  }
 ],
 "metadata": {
  "kernelspec": {
   "display_name": "Python 3 (ipykernel)",
   "language": "python",
   "name": "python3"
  },
  "language_info": {
   "codemirror_mode": {
    "name": "ipython",
    "version": 3
   },
   "file_extension": ".py",
   "mimetype": "text/x-python",
   "name": "python",
   "nbconvert_exporter": "python",
   "pygments_lexer": "ipython3",
   "version": "3.11.5"
  }
 },
 "nbformat": 4,
 "nbformat_minor": 5
}
