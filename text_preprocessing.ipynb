{
 "cells": [
  {
   "cell_type": "markdown",
   "id": "0f6e1325",
   "metadata": {},
   "source": [
    "### Algorithm for Text Preprocessing in NLP:\n",
    "\n",
    "Input: A string of text.\n",
    "\n",
    "Tokenization:\n",
    "\n",
    "Split the text into individual words or tokens.\n",
    "\n",
    "Output: List of tokens (words).\n",
    "\n",
    "Filtration:\n",
    "\n",
    "Remove non-alphanumeric characters (such as punctuation marks, numbers, etc.).\n",
    "\n",
    "Output: List of tokens containing only words.\n",
    "\n",
    "Script Validation:\n",
    "\n",
    "Remove tokens that contain non-English characters (e.g., non-ASCII characters or words with digits).\n",
    "\n",
    "Output: List of tokens that contain only valid alphabetic characters.\n",
    "\n",
    "Stop Word Removal:\n",
    "\n",
    "Compare each token to a predefined list of common stop words (like \"the\", \"and\", \"is\", etc.).\n",
    "\n",
    "Remove tokens that are found in the stop word list.\n",
    "\n",
    "Output: List of tokens after stop words have been removed.\n",
    "\n",
    "Stemming:\n",
    "\n",
    "Apply stemming to each token, reducing it to its root form (e.g., \"running\" → \"run\", \"better\" → \"better\").\n",
    "\n",
    "Output: List of stemmed tokens.\n",
    "\n",
    "Language Detection (Optional):\n",
    "\n",
    "Optionally detect the language of the input text.\n",
    "\n",
    "Output: Detected language (e.g., 'en' for English, 'hi' for Hindi)."
   ]
  },
  {
   "cell_type": "code",
   "execution_count": 6,
   "id": "28d397d4",
   "metadata": {},
   "outputs": [],
   "source": [
    "import nltk\n",
    "from nltk.tokenize import word_tokenize\n",
    "from nltk.corpus import stopwords\n",
    "from nltk.stem import PorterStemmer\n",
    "import re\n",
    "from langdetect import detect"
   ]
  },
  {
   "cell_type": "code",
   "execution_count": 2,
   "id": "31d31c1c",
   "metadata": {},
   "outputs": [
    {
     "name": "stderr",
     "output_type": "stream",
     "text": [
      "[nltk_data] Downloading package punkt to\n",
      "[nltk_data]     C:\\Users\\Personal\\AppData\\Roaming\\nltk_data...\n",
      "[nltk_data]   Package punkt is already up-to-date!\n",
      "[nltk_data] Downloading package stopwords to\n",
      "[nltk_data]     C:\\Users\\Personal\\AppData\\Roaming\\nltk_data...\n",
      "[nltk_data]   Package stopwords is already up-to-date!\n"
     ]
    },
    {
     "data": {
      "text/plain": [
       "True"
      ]
     },
     "execution_count": 2,
     "metadata": {},
     "output_type": "execute_result"
    }
   ],
   "source": [
    "nltk.download('punkt')\n",
    "nltk.download('stopwords')"
   ]
  },
  {
   "cell_type": "code",
   "execution_count": 3,
   "id": "06052238",
   "metadata": {},
   "outputs": [],
   "source": [
    "def preprocess_text(text):\n",
    "    tokens = word_tokenize(text)\n",
    "    filtered_tokens = [word for word in tokens if word.isalnum()]\n",
    "    validated_tokens = [word for word in filtered_tokens if re.match(\"^[A-Za-z]+$\", word)] \n",
    "    stop_words = set(stopwords.words('english'))\n",
    "    tokens_without_stopwords = [word for word in validated_tokens if word.lower() not in stop_words]\n",
    "    stemmer = PorterStemmer()\n",
    "    stemmed_tokens = [stemmer.stem(word) for word in tokens_without_stopwords]\n",
    "    return stemmed_tokens\n"
   ]
  },
  {
   "cell_type": "code",
   "execution_count": 4,
   "id": "89e7d0ad",
   "metadata": {},
   "outputs": [
    {
     "name": "stdout",
     "output_type": "stream",
     "text": [
      "Preprocessed Text: ['natur', 'languag', 'process', 'nlp', 'fascin', 'field', 'artifici', 'intellig']\n"
     ]
    }
   ],
   "source": [
    "text = \"Natural Language Processing (NLP) is a fascinating field of Artificial Intelligence!\"\n",
    "preprocessed_text = preprocess_text(text)\n",
    "print(\"Preprocessed Text:\", preprocessed_text)"
   ]
  },
  {
   "cell_type": "code",
   "execution_count": 5,
   "id": "cae52b5b",
   "metadata": {},
   "outputs": [
    {
     "name": "stdout",
     "output_type": "stream",
     "text": [
      "Detected Language: hi\n"
     ]
    }
   ],
   "source": [
    "text = \"नमस, आप कस ह?\"\n",
    "lang = detect(text)\n",
    "print(\"Detected Language:\", lang)"
   ]
  },
  {
   "cell_type": "code",
   "execution_count": null,
   "id": "e0f3c2e8",
   "metadata": {},
   "outputs": [],
   "source": []
  }
 ],
 "metadata": {
  "kernelspec": {
   "display_name": "Python 3 (ipykernel)",
   "language": "python",
   "name": "python3"
  },
  "language_info": {
   "codemirror_mode": {
    "name": "ipython",
    "version": 3
   },
   "file_extension": ".py",
   "mimetype": "text/x-python",
   "name": "python",
   "nbconvert_exporter": "python",
   "pygments_lexer": "ipython3",
   "version": "3.11.5"
  }
 },
 "nbformat": 4,
 "nbformat_minor": 5
}
