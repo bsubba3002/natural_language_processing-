{
 "cells": [
  {
   "cell_type": "code",
   "execution_count": 1,
   "id": "8ed7e15a",
   "metadata": {},
   "outputs": [
    {
     "name": "stdout",
     "output_type": "stream",
     "text": [
      "Top-Down Parsing Result: True\n"
     ]
    }
   ],
   "source": [
    "class TopDownParser:\n",
    "    def __init__(self, input_string):\n",
    "        self.input = input_string\n",
    "        self.index = 0\n",
    "\n",
    "    def match(self, char):\n",
    "        if self.index < len(self.input) and self.input[self.index] == char:\n",
    "            self.index += 1\n",
    "            return True\n",
    "        return False\n",
    "\n",
    "    def S(self):\n",
    "        if self.match('a') and self.A() and self.B():\n",
    "            return True\n",
    "        return False\n",
    "\n",
    "    def A(self):\n",
    "        if self.match('b'):\n",
    "            return True\n",
    "        return True  # Epsilon transition\n",
    "\n",
    "    def B(self):\n",
    "        return self.match('c')\n",
    "\n",
    "    def parse(self):\n",
    "        return self.S() and self.index == len(self.input)\n",
    "\n",
    "# Example Usage\n",
    "input_string = \"abc\"\n",
    "td_parser = TopDownParser(input_string)\n",
    "print(\"Top-Down Parsing Result:\", td_parser.parse())\n"
   ]
  },
  {
   "cell_type": "code",
   "execution_count": 2,
   "id": "8dc6e517",
   "metadata": {},
   "outputs": [
    {
     "name": "stdout",
     "output_type": "stream",
     "text": [
      "Bottom-Up Parsing Result: True\n"
     ]
    }
   ],
   "source": [
    "class BottomUpParser:\n",
    "    def __init__(self, input_string):\n",
    "        self.input = list(input_string)\n",
    "        self.stack = []\n",
    "\n",
    "    def shift(self):\n",
    "        if self.input:\n",
    "            self.stack.append(self.input.pop(0))\n",
    "\n",
    "    def reduce(self):\n",
    "        if ''.join(self.stack[-2:]) == 'bc':\n",
    "            self.stack[-2:] = ['A']\n",
    "        elif ''.join(self.stack[-2:]) == 'aA':\n",
    "            self.stack[-2:] = ['S']\n",
    "        elif ''.join(self.stack) == 'S':\n",
    "            return True\n",
    "        return False\n",
    "\n",
    "    def parse(self):\n",
    "        while self.input or len(self.stack) > 1:\n",
    "            self.shift()\n",
    "            while self.reduce():\n",
    "                pass\n",
    "        return self.stack == ['S']\n",
    "\n",
    "# Example Usage\n",
    "input_string = \"abc\"\n",
    "bu_parser = BottomUpParser(input_string)\n",
    "print(\"Bottom-Up Parsing Result:\", bu_parser.parse())\n"
   ]
  },
  {
   "cell_type": "markdown",
   "id": "035d521d",
   "metadata": {},
   "source": [
    "# flow diagam "
   ]
  },
  {
   "cell_type": "markdown",
   "id": "81221de2",
   "metadata": {},
   "source": [
    "<pre>\n",
    "+-----------------------------+\n",
    "|          Start              |\n",
    "+-----------------------------+\n",
    "            |\n",
    "            v\n",
    "+-----------------------------+\n",
    "| Input the string            |\n",
    "+-----------------------------+\n",
    "            |\n",
    "            v\n",
    "+-----------------------------+\n",
    "| Check if the current symbol |\n",
    "| matches the input string    |\n",
    "+-----------------------------+\n",
    "            |\n",
    "            v\n",
    "+-----------------------------+\n",
    "| If Match, move to next part|\n",
    "| of the grammar (e.g. A, B)  |\n",
    "+-----------------------------+\n",
    "            |\n",
    "            v\n",
    "+-----------------------------+\n",
    "| If no match, backtrack or   |\n",
    "| fail the parse              |\n",
    "+-----------------------------+\n",
    "            |\n",
    "            v\n",
    "+-----------------------------+\n",
    "| If end of string and parse  |\n",
    "| is successful, return True  |\n",
    "+-----------------------------+\n",
    "            |\n",
    "            v\n",
    "+-----------------------------+\n",
    "|           End               |\n",
    "+-----------------------------+\n",
    "</pre>\n"
   ]
  },
  {
   "cell_type": "markdown",
   "id": "6e159b12",
   "metadata": {},
   "source": []
  },
  {
   "cell_type": "code",
   "execution_count": null,
   "id": "b1b7950c",
   "metadata": {},
   "outputs": [],
   "source": []
  }
 ],
 "metadata": {
  "kernelspec": {
   "display_name": "Python 3 (ipykernel)",
   "language": "python",
   "name": "python3"
  },
  "language_info": {
   "codemirror_mode": {
    "name": "ipython",
    "version": 3
   },
   "file_extension": ".py",
   "mimetype": "text/x-python",
   "name": "python",
   "nbconvert_exporter": "python",
   "pygments_lexer": "ipython3",
   "version": "3.11.5"
  }
 },
 "nbformat": 4,
 "nbformat_minor": 5
}
