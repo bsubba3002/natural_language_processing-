{
 "cells": [
  {
   "cell_type": "code",
   "execution_count": 1,
   "id": "a7f49afa",
   "metadata": {},
   "outputs": [
    {
     "name": "stdout",
     "output_type": "stream",
     "text": [
      "MED between 'kitten' and 'sitting': 3\n",
      "MED between 'flaw' and 'lawn': 2\n",
      "MED between 'intention' and 'execution': 5\n",
      "MED between 'apple' and 'aple': 1\n",
      "MED between 'recieve' and 'receive': 2\n"
     ]
    }
   ],
   "source": [
    "def min_edit_distance(str1, str2):\n",
    "    m, n = len(str1), len(str2)\n",
    "    dp = [[0] * (n + 1) for _ in range(m + 1)]\n",
    "    for i in range(m + 1):\n",
    "        dp[i][0] = i\n",
    "    for j in range(n + 1):\n",
    "        dp[0][j] = j\n",
    "\n",
    "    \n",
    "    for i in range(1, m + 1):\n",
    "        for j in range(1, n + 1):\n",
    "            if str1[i - 1] == str2[j - 1]:\n",
    "                dp[i][j] = dp[i - 1][j - 1]\n",
    "            else:\n",
    "                dp[i][j] = 1 + min(\n",
    "                    dp[i - 1][j],    # Deletion\n",
    "                    dp[i][j - 1],    # Insertion\n",
    "                    dp[i - 1][j - 1] # Substitution\n",
    "                )\n",
    "    return dp[m][n]\n",
    "\n",
    "test_cases = [\n",
    "    (\"kitten\", \"sitting\"),\n",
    "    (\"flaw\", \"lawn\"),\n",
    "    (\"intention\", \"execution\"),\n",
    "    (\"apple\", \"aple\"),\n",
    "    (\"recieve\", \"receive\")\n",
    "]\n",
    "\n",
    "# Output results\n",
    "for str1, str2 in test_cases:\n",
    "    print(f\"MED between '{str1}' and '{str2}': {min_edit_distance(str1, str2)}\")\n"
   ]
  },
  {
   "cell_type": "markdown",
   "id": "e68ddd55",
   "metadata": {},
   "source": [
    "<pre>\n",
    "+-------------------------------+\n",
    "|            Start             |\n",
    "+-------------------------------+\n",
    "              |\n",
    "              v\n",
    "+-------------------------------+\n",
    "| Input two strings: str1, str2|\n",
    "+-------------------------------+\n",
    "              |\n",
    "              v\n",
    "+-------------------------------+\n",
    "| Initialize matrix dp of size |\n",
    "| (m+1) x (n+1)                 |\n",
    "+-------------------------------+\n",
    "              |\n",
    "              v\n",
    "+-------------------------------+\n",
    "| Fill base cases:             |\n",
    "| dp[i][0] = i (deletions)     |\n",
    "| dp[0][j] = j (insertions)    |\n",
    "+-------------------------------+\n",
    "              |\n",
    "              v\n",
    "+-------------------------------+\n",
    "| For i = 1 to m:              |\n",
    "|   For j = 1 to n:            |\n",
    "|     If str1[i-1] == str2[j-1]|\n",
    "|        dp[i][j] = dp[i-1][j-1]|\n",
    "|     Else                     |\n",
    "|        dp[i][j] = 1 + min(   |\n",
    "|            dp[i-1][j],       |\n",
    "|            dp[i][j-1],       |\n",
    "|            dp[i-1][j-1] )    |\n",
    "+-------------------------------+\n",
    "              |\n",
    "              v\n",
    "+-------------------------------+\n",
    "| Return dp[m][n] as MED       |\n",
    "+-------------------------------+\n",
    "              |\n",
    "              v\n",
    "+-------------------------------+\n",
    "|             End              |\n",
    "+-------------------------------+\n",
    "</pre>\n"
   ]
  },
  {
   "cell_type": "code",
   "execution_count": null,
   "id": "57162649",
   "metadata": {},
   "outputs": [],
   "source": [
    "fi"
   ]
  }
 ],
 "metadata": {
  "kernelspec": {
   "display_name": "Python 3 (ipykernel)",
   "language": "python",
   "name": "python3"
  },
  "language_info": {
   "codemirror_mode": {
    "name": "ipython",
    "version": 3
   },
   "file_extension": ".py",
   "mimetype": "text/x-python",
   "name": "python",
   "nbconvert_exporter": "python",
   "pygments_lexer": "ipython3",
   "version": "3.11.5"
  }
 },
 "nbformat": 4,
 "nbformat_minor": 5
}
