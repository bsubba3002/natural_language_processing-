{
 "cells": [
  {
   "cell_type": "code",
   "execution_count": 1,
   "id": "5fba2fe5",
   "metadata": {},
   "outputs": [],
   "source": [
    "import nltk\n",
    "from nltk import word_tokenize, ngrams\n",
    "from collections import Counter"
   ]
  },
  {
   "cell_type": "code",
   "execution_count": 2,
   "id": "058933eb",
   "metadata": {},
   "outputs": [],
   "source": [
    "def generate_ngrams(text, n):\n",
    "    tokens = word_tokenize(text.lower())\n",
    "    return list(ngrams(tokens, n))\n",
    "\n",
    "def calculate_ngram_probabilities(ngrams_list):\n",
    "    ngram_counts = Counter(ngrams_list)\n",
    "    total_ngrams = sum(ngram_counts.values())\n",
    "    probabilities = {ngram: count / total_ngrams for ngram, count in ngram_counts.items()}\n",
    "    return probabilities"
   ]
  },
  {
   "cell_type": "code",
   "execution_count": 3,
   "id": "4448edfb",
   "metadata": {},
   "outputs": [],
   "source": [
    "sentences = [\"I love programming.\", \"Programming is fun.\", \"I love coding and programming.\"]\n",
    "text = \" \".join(sentences)"
   ]
  },
  {
   "cell_type": "code",
   "execution_count": 4,
   "id": "59e74802",
   "metadata": {},
   "outputs": [],
   "source": [
    "unigrams = generate_ngrams(text, 1)\n",
    "bigrams = generate_ngrams(text, 2)\n",
    "trigrams = generate_ngrams(text, 3)\n",
    "\n",
    "unigram_prob = calculate_ngram_probabilities(unigrams)\n",
    "bigram_prob = calculate_ngram_probabilities(bigrams)\n",
    "trigram_prob = calculate_ngram_probabilities(trigrams)"
   ]
  },
  {
   "cell_type": "code",
   "execution_count": 5,
   "id": "779df586",
   "metadata": {},
   "outputs": [
    {
     "name": "stdout",
     "output_type": "stream",
     "text": [
      "\n",
      "Unigram Probabilities:\n",
      "('i',): 0.1429\n",
      "('love',): 0.1429\n",
      "('programming',): 0.2143\n",
      "('.',): 0.2143\n",
      "('is',): 0.0714\n",
      "('fun',): 0.0714\n",
      "('coding',): 0.0714\n",
      "('and',): 0.0714\n",
      "\n",
      "Bigram Probabilities:\n",
      "('i', 'love'): 0.1538\n",
      "('love', 'programming'): 0.0769\n",
      "('programming', '.'): 0.1538\n",
      "('.', 'programming'): 0.0769\n",
      "('programming', 'is'): 0.0769\n",
      "('is', 'fun'): 0.0769\n",
      "('fun', '.'): 0.0769\n",
      "('.', 'i'): 0.0769\n",
      "('love', 'coding'): 0.0769\n",
      "('coding', 'and'): 0.0769\n",
      "('and', 'programming'): 0.0769\n",
      "\n",
      "Trigram Probabilities:\n",
      "('i', 'love', 'programming'): 0.0833\n",
      "('love', 'programming', '.'): 0.0833\n",
      "('programming', '.', 'programming'): 0.0833\n",
      "('.', 'programming', 'is'): 0.0833\n",
      "('programming', 'is', 'fun'): 0.0833\n",
      "('is', 'fun', '.'): 0.0833\n",
      "('fun', '.', 'i'): 0.0833\n",
      "('.', 'i', 'love'): 0.0833\n",
      "('i', 'love', 'coding'): 0.0833\n",
      "('love', 'coding', 'and'): 0.0833\n",
      "('coding', 'and', 'programming'): 0.0833\n",
      "('and', 'programming', '.'): 0.0833\n"
     ]
    }
   ],
   "source": [
    "print(\"\\nUnigram Probabilities:\")\n",
    "for unigram, prob in unigram_prob.items():\n",
    "    print(f\"{unigram}: {prob:.4f}\")\n",
    "\n",
    "print(\"\\nBigram Probabilities:\")\n",
    "for bigram, prob in bigram_prob.items():\n",
    "    print(f\"{bigram}: {prob:.4f}\")\n",
    "\n",
    "print(\"\\nTrigram Probabilities:\")\n",
    "for trigram, prob in trigram_prob.items():\n",
    "    print(f\"{trigram}: {prob:.4f}\")"
   ]
  },
  {
   "cell_type": "markdown",
   "id": "8f1be682",
   "metadata": {},
   "source": [
    "# flow diagram  "
   ]
  },
  {
   "cell_type": "markdown",
   "id": "235091bb",
   "metadata": {},
   "source": [
    "```text\n",
    "+-------------------+\n",
    "|    Input Text     |\n",
    "+-------------------+\n",
    "          |\n",
    "          v\n",
    "+-------------------+\n",
    "|   Tokenization    |\n",
    "+-------------------+\n",
    "          |\n",
    "          v\n",
    "+-------------------------------------+\n",
    "| Generate N-grams (Uni, Bi, Tri)     |\n",
    "+-------------------------------------+\n",
    "          |\n",
    "          v\n",
    "+-------------------------------------+\n",
    "| Calculate N-gram Probabilities      |\n",
    "+-------------------------------------+\n",
    "          |\n",
    "          v\n",
    "+-----------------------------+\n",
    "| Display N-gram Probabilities|\n",
    "+-----------------------------+\n",
    "          |\n",
    "          v\n",
    "+-------------------+\n",
    "|  Test Sentence    |\n",
    "+-------------------+\n",
    "          |\n",
    "          v\n",
    "+-------------------------------------+\n",
    "| Compute Total Probability (Bi/Tri) |\n",
    "+-------------------------------------+\n",
    "          |\n",
    "          v\n",
    "+-------------------------------+\n",
    "| Output: Total Probabilities  |\n",
    "|  (Bigram & Trigram)          |\n",
    "+-------------------------------+\n",
    "```\n"
   ]
  },
  {
   "cell_type": "code",
   "execution_count": null,
   "id": "acb34295",
   "metadata": {},
   "outputs": [],
   "source": []
  }
 ],
 "metadata": {
  "kernelspec": {
   "display_name": "Python 3 (ipykernel)",
   "language": "python",
   "name": "python3"
  },
  "language_info": {
   "codemirror_mode": {
    "name": "ipython",
    "version": 3
   },
   "file_extension": ".py",
   "mimetype": "text/x-python",
   "name": "python",
   "nbconvert_exporter": "python",
   "pygments_lexer": "ipython3",
   "version": "3.11.5"
  }
 },
 "nbformat": 4,
 "nbformat_minor": 5
}
